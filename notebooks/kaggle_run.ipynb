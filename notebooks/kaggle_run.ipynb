{
 "cells": [
  {
   "cell_type": "markdown",
   "id": "000ff53b",
   "metadata": {},
   "source": [
    "# AI-Powered Inventory Management & Forecasting\n",
    "\n",
    "This Kaggle-friendly notebook installs dependencies, runs the training pipeline, and surfaces key outputs. Upload the dataset files (`products.csv`, `transactions.csv`) under `/kaggle/input/<dataset-name>/` or enable synthetic data generation."
   ]
  },
  {
   "cell_type": "markdown",
   "id": "afd01fe3",
   "metadata": {},
   "source": [
    "## 1. Setup\n",
    "\n",
    "Uncomment Prophet install if the environment does not already provide it."
   ]
  },
  {
   "cell_type": "code",
   "execution_count": null,
   "id": "ed0da048",
   "metadata": {},
   "outputs": [],
   "source": [
    "# !pip install prophet"
   ]
  },
  {
   "cell_type": "markdown",
   "id": "d9f61630",
   "metadata": {},
   "source": [
    "## 2. Configure paths\n",
    "\n",
    "Point to the dataset directory. For Kaggle competitions/datasets use the provided `/kaggle/input/...` path."
   ]
  },
  {
   "cell_type": "code",
   "execution_count": null,
   "id": "3928da31",
   "metadata": {},
   "outputs": [],
   "source": [
    "from pathlib import Path\n",
    "from src import pipeline\n",
    "\n",
    "DATA_DIR = Path('/kaggle/input/inventory-data')  # change to your dataset folder\n",
    "OUTPUT_DIR = Path('/kaggle/working/outputs')\n",
    "MODEL_NAME = 'prophet'\n",
    "HORIZON_DAYS = 30\n",
    "OUTPUT_DIR.mkdir(parents=True, exist_ok=True)\n",
    "OUTPUT_DIR"
   ]
  },
  {
   "cell_type": "markdown",
   "id": "2b189276",
   "metadata": {},
   "source": [
    "## 3. Run pipeline\n",
    "\n",
    "If you do not have real data, toggle `USE_SYNTHETIC` to `True` to create demo files."
   ]
  },
  {
   "cell_type": "code",
   "execution_count": null,
   "id": "cfba2126",
   "metadata": {},
   "outputs": [],
   "source": [
    "from scripts.generate_synthetic import main as generate_synthetic\n",
    "\n",
    "USE_SYNTHETIC = False\n",
    "if USE_SYNTHETIC:\n",
    "    generate_synthetic(out_dir=Path('data'))\n",
    "    DATA_DIR = Path('data')\n",
    "\n",
    "outputs = pipeline.run_pipeline(\n",
    "    data_dir=DATA_DIR,\n",
    "    output_dir=OUTPUT_DIR,\n",
    "    model_name=MODEL_NAME,\n",
    "    horizon_days=HORIZON_DAYS,\n",
    ")\n",
    "outputs.reorder.head()"
   ]
  },
  {
   "cell_type": "markdown",
   "id": "c99aae94",
   "metadata": {},
   "source": [
    "## 4. Visualize outputs\n",
    "\n",
    "Display reorder recommendations and example plots for Canva."
   ]
  },
  {
   "cell_type": "code",
   "execution_count": null,
   "id": "b1741ab2",
   "metadata": {},
   "outputs": [],
   "source": [
    "from IPython.display import Image\n",
    "outputs.reorder.sort_values('recommended_reorder_qty', ascending=False).head(10)"
   ]
  },
  {
   "cell_type": "code",
   "execution_count": null,
   "id": "d602dead",
   "metadata": {},
   "outputs": [],
   "source": [
    "for name, path in outputs.plots.items():\n",
    "    display(Image(filename=path))\n",
    "print('Files saved to', OUTPUT_DIR)"
   ]
  },
  {
   "cell_type": "markdown",
   "id": "e37dfc66",
   "metadata": {},
   "source": [
    "## 2b. Use your grocery CSV (optional)\n",
    "\n",
    "Convert a CSV like `Grocery_Inventory_new_v1.csv` into the pipeline format (`products.csv`, `transactions.csv`)."
   ]
  },
  {
   "cell_type": "code",
   "execution_count": null,
   "id": "4e03152f",
   "metadata": {},
   "outputs": [],
   "source": [
    "from pathlib import Path\n",
    "from src.adapters.grocery_csv_adapter import convert_grocery_csv_to_internal\n",
    "\n",
    "# If you uploaded Grocery_Inventory_new_v1.csv to working dir, convert it:\n",
    "USE_GROCERY_CSV = False\n",
    "GROCERY_CSV_PATH = Path('/kaggle/working/Grocery_Inventory_new_v1.csv')\n",
    "if USE_GROCERY_CSV and GROCERY_CSV_PATH.exists():\n",
    "    convert_grocery_csv_to_internal(GROCERY_CSV_PATH, Path('data'), default_lead_time=7)\n",
    "    DATA_DIR = Path('data')\n",
    "DATA_DIR"
   ]
  },
  {
   "cell_type": "markdown",
   "id": "078f5e21",
   "metadata": {},
   "source": [
    "## 5. Inspect perishable-aware recommendations\n",
    "\n",
    "Sorted by earliest next_order_date and highest waste risk."
   ]
  },
  {
   "cell_type": "code",
   "execution_count": null,
   "id": "96d3f12f",
   "metadata": {},
   "outputs": [],
   "source": [
    "# Show early orders and potential waste\n",
    "recs = outputs.reorder.copy()\n",
    "recs_next = recs.dropna(subset=['next_order_date']).sort_values('next_order_date').head(10)\n",
    "recs_waste = recs.sort_values('waste_estimate', ascending=False).head(10)\n",
    "recs_next, recs_waste"
   ]
  }
 ],
 "metadata": {
  "language_info": {
   "name": "python"
  }
 },
 "nbformat": 4,
 "nbformat_minor": 5
}
